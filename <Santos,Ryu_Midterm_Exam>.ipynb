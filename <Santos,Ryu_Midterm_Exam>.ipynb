{
  "nbformat": 4,
  "nbformat_minor": 0,
  "metadata": {
    "colab": {
      "provenance": [],
      "authorship_tag": "ABX9TyOmBrhbynTrt+VcYrkP8tUk",
      "include_colab_link": true
    },
    "kernelspec": {
      "name": "python3",
      "display_name": "Python 3"
    },
    "language_info": {
      "name": "python"
    }
  },
  "cells": [
    {
      "cell_type": "markdown",
      "metadata": {
        "id": "view-in-github",
        "colab_type": "text"
      },
      "source": [
        "<a href=\"https://colab.research.google.com/github/Ryu-Santos/CPEN65-2/blob/main/%3CSantos%2CRyu_Midterm_Exam%3E.ipynb\" target=\"_parent\"><img src=\"https://colab.research.google.com/assets/colab-badge.svg\" alt=\"Open In Colab\"/></a>"
      ]
    },
    {
      "cell_type": "code",
      "execution_count": null,
      "metadata": {
        "colab": {
          "base_uri": "https://localhost:8080/"
        },
        "id": "I4wiaZ8l-xGV",
        "outputId": "5886bfe1-b689-42e7-c68e-bcc4174598db"
      },
      "outputs": [
        {
          "output_type": "stream",
          "name": "stdout",
          "text": [
            "1\n",
            "2\n",
            "3\n",
            "4\n",
            "5\n",
            "6\n",
            "7\n",
            "8\n",
            "9\n",
            "10\n",
            "1\n",
            "2\n",
            "3\n",
            "4\n",
            "5\n",
            "6\n",
            "7\n",
            "8\n",
            "9\n",
            "10\n"
          ]
        },
        {
          "output_type": "execute_result",
          "data": {
            "text/plain": [
              "55"
            ]
          },
          "metadata": {},
          "execution_count": 13
        }
      ],
      "source": [
        "#Item no. 1\n",
        "\n",
        "import array as ar\n",
        "\n",
        "arr = ar.array('i', [1,2,3,4,5,6,7,8,9,10])\n",
        "for i in arr:\n",
        "  print(i)\n",
        "\n",
        "print(arr[0])   #Access through all individual elements\n",
        "print(arr[1])\n",
        "print(arr[2])\n",
        "print(arr[3])\n",
        "print(arr[4])\n",
        "print(arr[5])\n",
        "print(arr[6])\n",
        "print(arr[7])\n",
        "print(arr[8])\n",
        "print(arr[9])\n",
        "\n",
        "sum(arr)"
      ]
    },
    {
      "cell_type": "code",
      "source": [
        "#Item no. 2\n",
        "\n",
        "import array as ar\n",
        "\n",
        "arr = ar.array('i', [1,2,3,4,5,6,7,8,9,10])\n",
        "print(arr)\n",
        "arr.append(11)\n",
        "print(arr)"
      ],
      "metadata": {
        "colab": {
          "base_uri": "https://localhost:8080/"
        },
        "id": "eeYQjtTxE3da",
        "outputId": "4dc56fe3-032d-4989-9cd1-3cb8334a09c2"
      },
      "execution_count": null,
      "outputs": [
        {
          "output_type": "stream",
          "name": "stdout",
          "text": [
            "array('i', [1, 2, 3, 4, 5, 6, 7, 8, 9, 10])\n",
            "array('i', [1, 2, 3, 4, 5, 6, 7, 8, 9, 10, 11])\n"
          ]
        }
      ]
    },
    {
      "cell_type": "code",
      "source": [
        "#Item no. 3\n",
        "\n",
        "import array as ar\n",
        "\n",
        "arr = ar.array('i', [1,2,3,4,5,6,7,8,9,10])\n",
        "print(arr)\n",
        "arr.insert(1,22)\n",
        "print(arr)"
      ],
      "metadata": {
        "colab": {
          "base_uri": "https://localhost:8080/"
        },
        "id": "og8bn3cdHGd5",
        "outputId": "4eac3365-f72f-49df-b0d1-0ea0c68c3f69"
      },
      "execution_count": null,
      "outputs": [
        {
          "output_type": "stream",
          "name": "stdout",
          "text": [
            "array('i', [1, 2, 3, 4, 5, 6, 7, 8, 9, 10])\n",
            "array('i', [1, 22, 2, 3, 4, 5, 6, 7, 8, 9, 10])\n"
          ]
        }
      ]
    },
    {
      "cell_type": "code",
      "source": [
        "#Item no. 4\n",
        "\n",
        "import array as ar\n",
        "\n",
        "arr = ar.array('i', [5,4,3,2,1])\n",
        "print(arr)\n",
        "arr.reverse()\n",
        "print(arr)"
      ],
      "metadata": {
        "colab": {
          "base_uri": "https://localhost:8080/"
        },
        "id": "3FVnbor1IFbq",
        "outputId": "32185e87-e50c-4613-ec3a-0e5cf9dace93"
      },
      "execution_count": null,
      "outputs": [
        {
          "output_type": "stream",
          "name": "stdout",
          "text": [
            "array('i', [5, 4, 3, 2, 1])\n",
            "array('i', [1, 2, 3, 4, 5])\n"
          ]
        }
      ]
    },
    {
      "cell_type": "code",
      "source": [
        "#Item no. 5\n",
        "\n",
        "import array as ar\n",
        "\n",
        "arr = ar.array('i', [5,4,3,2,1])\n",
        "print(arr)\n",
        "arrlength = len(arr)\n",
        "print(arrlength)"
      ],
      "metadata": {
        "colab": {
          "base_uri": "https://localhost:8080/"
        },
        "id": "Y2zFJ5YTI8qQ",
        "outputId": "065eb255-e41a-41ce-aabd-4ed9aece4e0f"
      },
      "execution_count": null,
      "outputs": [
        {
          "output_type": "stream",
          "name": "stdout",
          "text": [
            "array('i', [5, 4, 3, 2, 1])\n",
            "5\n"
          ]
        }
      ]
    }
  ]
}