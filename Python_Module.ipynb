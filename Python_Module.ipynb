{
  "nbformat": 4,
  "nbformat_minor": 0,
  "metadata": {
    "colab": {
      "provenance": [],
      "authorship_tag": "ABX9TyOQK+AMFWGja/LQHW82xGN0",
      "include_colab_link": true
    },
    "kernelspec": {
      "name": "python3",
      "display_name": "Python 3"
    },
    "language_info": {
      "name": "python"
    }
  },
  "cells": [
    {
      "cell_type": "markdown",
      "metadata": {
        "id": "view-in-github",
        "colab_type": "text"
      },
      "source": [
        "<a href=\"https://colab.research.google.com/github/Ryu-Santos/CPEN65-2/blob/main/Python_Module.ipynb\" target=\"_parent\"><img src=\"https://colab.research.google.com/assets/colab-badge.svg\" alt=\"Open In Colab\"/></a>"
      ]
    },
    {
      "cell_type": "markdown",
      "source": [
        "Array Module in Python"
      ],
      "metadata": {
        "id": "UWe3CStUNfZN"
      }
    },
    {
      "cell_type": "code",
      "execution_count": 10,
      "metadata": {
        "colab": {
          "base_uri": "https://localhost:8080/"
        },
        "id": "WeGCvIpFMxfP",
        "outputId": "81c0a077-916e-4410-92dd-f8a25a347db9"
      },
      "outputs": [
        {
          "output_type": "stream",
          "name": "stdout",
          "text": [
            "i\n",
            "f\n"
          ]
        }
      ],
      "source": [
        "#we need to get typecodes first\n",
        "\n",
        "import array as arr #array replaces as 'arr' by using \"as\"\n",
        "arr.typecodes #get all typecodes\n",
        "a = arr.array('i', [1,2,3,4,5,6]) #initializing array a\n",
        "print(a.typecode) #getting the typecode of a\n",
        "\n",
        "b = arr.array('f', [1.5,2.5, 3.5,4.5,5.5,6.5]) #initializing array b\n",
        "print(b.typecode) #getting the typecode of b"
      ]
    },
    {
      "cell_type": "code",
      "source": [
        "b = arr.array('f', [1.5,2.5, 3.5,4.5,5.5,6.5]) #initializing array b\n",
        "b.typecode #getting the typecode of b"
      ],
      "metadata": {
        "colab": {
          "base_uri": "https://localhost:8080/",
          "height": 35
        },
        "id": "PV8JmzKEOAGL",
        "outputId": "f3eab925-7255-40db-ca5d-ccd4b1da01e6"
      },
      "execution_count": 11,
      "outputs": [
        {
          "output_type": "execute_result",
          "data": {
            "text/plain": [
              "'f'"
            ],
            "application/vnd.google.colaboratory.intrinsic+json": {
              "type": "string"
            }
          },
          "metadata": {},
          "execution_count": 11
        }
      ]
    },
    {
      "cell_type": "code",
      "source": [
        "#What are the output of these codes?\n",
        "#no need to import array, imported already\n",
        "\n",
        "import array as arr\n",
        "a = arr.array('i', [4,5,6,7]) #initializing array\n",
        "print(a)\n",
        "\n",
        "c = a.insert(1,2) #insert at the element index no.1 by 2\n",
        "print(a)\n",
        "\n",
        "a.insert(-1,0) #insert at the the element index before the last element(7) by 0\n",
        "print(a)\n",
        "\n",
        "a.insert(6,8)\n",
        "print(a)\n",
        "\n",
        "a.insert(10,-1) #there is no 10th index, but replacing will occur at the last index\n",
        "print(a)"
      ],
      "metadata": {
        "colab": {
          "base_uri": "https://localhost:8080/"
        },
        "id": "Lgj4cu3UO4ID",
        "outputId": "10a333c9-335f-4c4e-8c48-f5a3c648ae1c"
      },
      "execution_count": 18,
      "outputs": [
        {
          "output_type": "stream",
          "name": "stdout",
          "text": [
            "array('i', [4, 5, 6, 7])\n",
            "array('i', [4, 2, 5, 6, 7])\n",
            "array('i', [4, 2, 5, 6, 0, 7])\n",
            "array('i', [4, 2, 5, 6, 0, 7, 8])\n",
            "array('i', [4, 2, 5, 6, 0, 7, 8, -1])\n"
          ]
        }
      ]
    },
    {
      "cell_type": "markdown",
      "source": [
        "Linked List"
      ],
      "metadata": {
        "id": "VH6KPTC2UejB"
      }
    },
    {
      "cell_type": "code",
      "source": [
        "#Python program to create a Singly Linked of vowel in English\n",
        "#Node class\n",
        "class Node:\n",
        "  def __init__(self, data):\n",
        "    self.data = data    #assign data\n",
        "    self.next = None    #initialize next as null\n",
        "\n",
        "#Linked List class contains node object\n",
        "class LinkedList:\n",
        "  def __init__(self):\n",
        "    self.head = None\n",
        "\n",
        "  def printlist(self):   #to print all the vowels\n",
        "    temp = self.head\n",
        "    while(temp):\n",
        "      print(temp.data)\n",
        "      temp = temp.next\n",
        "\n",
        "\n",
        "llist = LinkedList() #code execution staritng from an empty list\n",
        "llist.head = Node(\"a\") #the first node\n",
        "second = Node(\"e\")\n",
        "third = Node(\"i\")\n",
        "fourth = Node(\"o\")\n",
        "fifth = Node(\"u\")\n",
        "\n",
        "llist.head.next = second\n",
        "second.next = third\n",
        "third.next = fourth\n",
        "fourth.next = fifth\n",
        "\n",
        "llist.printlist()"
      ],
      "metadata": {
        "colab": {
          "base_uri": "https://localhost:8080/"
        },
        "id": "bkacJyx_PIiv",
        "outputId": "b15b767b-12d7-40c6-9e34-d82a2cbc91ed"
      },
      "execution_count": 25,
      "outputs": [
        {
          "output_type": "stream",
          "name": "stdout",
          "text": [
            "a\n",
            "e\n",
            "i\n",
            "o\n",
            "u\n"
          ]
        }
      ]
    }
  ]
}