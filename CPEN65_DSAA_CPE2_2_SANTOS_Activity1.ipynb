{
  "nbformat": 4,
  "nbformat_minor": 0,
  "metadata": {
    "colab": {
      "provenance": [],
      "collapsed_sections": [],
      "authorship_tag": "ABX9TyOds7zXXpxe7A2ltOxrlbFh",
      "include_colab_link": true
    },
    "kernelspec": {
      "name": "python3",
      "display_name": "Python 3"
    },
    "language_info": {
      "name": "python"
    }
  },
  "cells": [
    {
      "cell_type": "markdown",
      "metadata": {
        "id": "view-in-github",
        "colab_type": "text"
      },
      "source": [
        "<a href=\"https://colab.research.google.com/github/Ryu-Santos/CPEN65-2/blob/main/CPEN65_DSAA_CPE2_2_SANTOS_Activity1.ipynb\" target=\"_parent\"><img src=\"https://colab.research.google.com/assets/colab-badge.svg\" alt=\"Open In Colab\"/></a>"
      ]
    },
    {
      "cell_type": "code",
      "source": [
        "class CircleRadius:\n",
        "  def __init__(self,r):\n",
        "    self.radius = r\n",
        "  \n",
        "  def Radius(self):\n",
        "    return 3.14 * (self.radius ** 2)\n",
        "\n",
        "  def display(self):\n",
        "    print(\"the area of the circle given the radius is:\", self.Radius())\n",
        "\n",
        "class CircleDiameter:\n",
        "    def __init__(self,d):\n",
        "      self.diameter = d\n",
        "  \n",
        "    def Diameter(self):\n",
        "      return 3.14 * (self.diameter ** 2)/4\n",
        "\n",
        "    def display(self):\n",
        "      print(\"the area of the circle given the diameter is:\", self.Diameter())\n",
        "\n",
        "AreaRadius = float(input(\"Enter the value in Radius: \"))\n",
        "Radius1 = CircleRadius(AreaRadius)\n",
        "print(Radius1.Radius())\n",
        "\n",
        "AreaDiameter = float(input(\"Enter the value in Diameter: \"))\n",
        "Diameter1 = CircleDiameter(AreaRadius)\n",
        "print(Diameter1.Diameter())"
      ],
      "metadata": {
        "colab": {
          "base_uri": "https://localhost:8080/"
        },
        "id": "JNsgIwG0l1bC",
        "outputId": "e7c84b1c-3e5b-499e-eaf4-c79c97e8f0b6"
      },
      "execution_count": 32,
      "outputs": [
        {
          "output_type": "stream",
          "name": "stdout",
          "text": [
            "Enter the value in Radius: 6\n",
            "113.04\n",
            "Enter the value in Diameter: 6\n",
            "28.26\n"
          ]
        }
      ]
    }
  ]
}