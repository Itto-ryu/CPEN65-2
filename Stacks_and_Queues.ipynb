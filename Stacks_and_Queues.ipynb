{
  "nbformat": 4,
  "nbformat_minor": 0,
  "metadata": {
    "colab": {
      "provenance": [],
      "authorship_tag": "ABX9TyOp7WP/A7nV6wzNFGojosk9",
      "include_colab_link": true
    },
    "kernelspec": {
      "name": "python3",
      "display_name": "Python 3"
    },
    "language_info": {
      "name": "python"
    }
  },
  "cells": [
    {
      "cell_type": "markdown",
      "metadata": {
        "id": "view-in-github",
        "colab_type": "text"
      },
      "source": [
        "<a href=\"https://colab.research.google.com/github/Ryu-Santos/CPEN65-2/blob/main/Stacks_and_Queues.ipynb\" target=\"_parent\"><img src=\"https://colab.research.google.com/assets/colab-badge.svg\" alt=\"Open In Colab\"/></a>"
      ]
    },
    {
      "cell_type": "markdown",
      "source": [
        "##Stacks"
      ],
      "metadata": {
        "id": "gp1bF7xQDoeC"
      }
    },
    {
      "cell_type": "code",
      "execution_count": 3,
      "metadata": {
        "colab": {
          "base_uri": "https://localhost:8080/"
        },
        "id": "_ojFQtuSDbMl",
        "outputId": "05401313-f461-417b-b115-01163ed09a84"
      },
      "outputs": [
        {
          "output_type": "stream",
          "name": "stdout",
          "text": [
            "[1, 2, 3]\n",
            "[1, 2]\n"
          ]
        }
      ],
      "source": [
        "class Stack:                          #LIFO = Last-In First-Out / OOP Application\n",
        "  def __init__(self):\n",
        "    self.stack = []\n",
        "\n",
        "  def push(self,dataval):\n",
        "    if dataval not in self.stack:\n",
        "      return self.stack.append(dataval)\n",
        "    else:\n",
        "      return False\n",
        "\n",
        "  def pop(self):\n",
        "    if len(self.stack) <=0:\n",
        "      return \"Stack is empty\"\n",
        "    else:\n",
        "      return self.stack.pop()\n",
        "\n",
        "AStack = Stack()\n",
        "AStack.push(1)\n",
        "AStack.push(2)\n",
        "AStack.push(3)\n",
        "\n",
        "print(AStack.stack)\n",
        "\n",
        "AStack.pop()    #Only shows what element had been removed. Will return \"3\" in this stack.\n",
        "print(AStack.stack)\n",
        "\n"
      ]
    },
    {
      "cell_type": "markdown",
      "source": [
        "##Queues"
      ],
      "metadata": {
        "id": "cQgbnbbbH3IK"
      }
    },
    {
      "cell_type": "code",
      "source": [
        "class Queue:\n",
        "  def __init__(self):\n",
        "    self.queue = []\n",
        "\n",
        "  def enqueue(self,dataval):\n",
        "    if dataval not in self.queue:\n",
        "      return self.queue.append(dataval)\n",
        "    else:\n",
        "      return False\n",
        "\n",
        "  def dequeue(self):\n",
        "    if len(self.queue) <=0:\n",
        "      return \"Queue is empty\"\n",
        "    else:\n",
        "      return self.queue.pop(0)\n",
        "\n",
        "Q = Queue()\n",
        "Q.enqueue(5)\n",
        "print(Q.queue)\n",
        "\n",
        "Q.enqueue(2)\n",
        "print(Q.queue)\n",
        "\n",
        "Q.enqueue(4)\n",
        "print(Q.queue)\n",
        "\n",
        "Q.dequeue()\n",
        "print(Q.queue)"
      ],
      "metadata": {
        "colab": {
          "base_uri": "https://localhost:8080/"
        },
        "id": "d7tLsim_H5-L",
        "outputId": "1853b0a0-3540-433e-ef25-d3dfa07d21a2"
      },
      "execution_count": 41,
      "outputs": [
        {
          "output_type": "stream",
          "name": "stdout",
          "text": [
            "[5]\n",
            "[5, 2]\n",
            "[5, 2, 4]\n",
            "[2, 4]\n"
          ]
        }
      ]
    }
  ]
}